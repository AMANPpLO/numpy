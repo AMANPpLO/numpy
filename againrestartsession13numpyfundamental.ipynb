{
 "cells": [
  {
   "cell_type": "code",
   "execution_count": 5,
   "id": "baf93435-4784-4cc5-b441-042ac4ed1e30",
   "metadata": {
    "tags": []
   },
   "outputs": [
    {
     "name": "stdout",
     "output_type": "stream",
     "text": [
      "[1 2 3]\n",
      "<class 'numpy.ndarray'>\n"
     ]
    }
   ],
   "source": [
    "#np.array \n",
    "import numpy as np \n",
    "a = np.array([1,2,3])\n",
    "print(a ) \n",
    "print(type(a) )"
   ]
  },
  {
   "cell_type": "code",
   "execution_count": 8,
   "id": "9673ca9a-7ac8-4a55-9cd7-8729bdbbd383",
   "metadata": {
    "tags": []
   },
   "outputs": [
    {
     "name": "stdout",
     "output_type": "stream",
     "text": [
      "[[1 2 3]\n",
      " [4 5 6]]\n",
      "<class 'numpy.ndarray'>\n"
     ]
    }
   ],
   "source": [
    "#2d numpy and 3d numpy array - 1st we have to give two list for 2d array \n",
    "b = np.array([[1,2,3],[4,5,6] ])\n",
    "print (b )\n",
    "print (type(b ))"
   ]
  },
  {
   "cell_type": "code",
   "execution_count": 11,
   "id": "43aabec3-1590-4be1-b326-565cf6c4f1f9",
   "metadata": {
    "tags": []
   },
   "outputs": [
    {
     "name": "stdout",
     "output_type": "stream",
     "text": [
      "[[[1 2]\n",
      "  [3 4]]\n",
      "\n",
      " [[5 6]\n",
      "  [7 8]]]\n"
     ]
    }
   ],
   "source": [
    "c= np.array([ [ [1,2],[3,4]],[ [5,6],[7,8 ]] ])#this is 3d array from here i am typing and you restart again and again \n",
    "print (c) "
   ]
  },
  {
   "cell_type": "code",
   "execution_count": 13,
   "id": "ba834e2a-038b-4270-9145-983ed9a001fb",
   "metadata": {
    "tags": []
   },
   "outputs": [
    {
     "data": {
      "text/plain": [
       "array([ 1., 23.,  3.])"
      ]
     },
     "execution_count": 13,
     "metadata": {},
     "output_type": "execute_result"
    }
   ],
   "source": [
    "#dtype \n",
    "np.array([1,23,3], dtype = float )"
   ]
  },
  {
   "cell_type": "code",
   "execution_count": 28,
   "id": "9c06b04d-6d7a-44f0-98ec-1ea37306af96",
   "metadata": {
    "tags": []
   },
   "outputs": [
    {
     "name": "stdout",
     "output_type": "stream",
     "text": [
      "[ 0  1  2  3  4  5  6  7  8  9 10 11 12]\n",
      "[1 2 3 4 5 6 7 8 9]\n",
      "[10  9  8  7  6  5  4  3]\n",
      "[10  8  6  4]\n"
     ]
    }
   ],
   "source": [
    "#np.arange\n",
    "q=np.arange(13)\n",
    "a=np.arange(1,10)\n",
    "c= np.arange(10,2,-1)\n",
    "d= np.arange(10,2,-2)\n",
    "print(q)\n",
    "print(a)\n",
    "print(c)\n",
    "print(d)"
   ]
  },
  {
   "cell_type": "code",
   "execution_count": 38,
   "id": "dd9c347d-763e-48ab-97a5-574bc0888b62",
   "metadata": {
    "tags": []
   },
   "outputs": [
    {
     "data": {
      "text/plain": [
       "array([[ 1,  2,  3,  4,  5],\n",
       "       [ 6,  7,  8,  9, 10],\n",
       "       [11, 12, 13, 14, 15],\n",
       "       [16, 17, 18, 19, 20],\n",
       "       [21, 22, 23, 24, 25]])"
      ]
     },
     "execution_count": 38,
     "metadata": {},
     "output_type": "execute_result"
    }
   ],
   "source": [
    "#reshape \n",
    "np.arange(1,26).reshape(5,5,1)#here may be 3d array will be there \n",
    "np.arange(1,26).reshape(5,5)\n"
   ]
  },
  {
   "cell_type": "code",
   "execution_count": 46,
   "id": "84a0d62b-00fa-43ad-b7e2-cedc57bb596f",
   "metadata": {
    "tags": []
   },
   "outputs": [
    {
     "data": {
      "text/plain": [
       "array([[0., 0.],\n",
       "       [0., 0.],\n",
       "       [0., 0.]])"
      ]
     },
     "execution_count": 46,
     "metadata": {},
     "output_type": "execute_result"
    }
   ],
   "source": [
    "# np.ones and np.zeros\n",
    "np.ones((3,2))\n",
    "np.zeros((3,2))"
   ]
  },
  {
   "cell_type": "code",
   "execution_count": 51,
   "id": "00b920cb-d5ac-4054-a6ca-da7a725553ff",
   "metadata": {
    "tags": []
   },
   "outputs": [
    {
     "data": {
      "text/plain": [
       "array([[0.69266229, 0.88124832, 0.25958286, 0.16408678],\n",
       "       [0.41090465, 0.28679283, 0.51741776, 0.54605201]])"
      ]
     },
     "execution_count": 51,
     "metadata": {},
     "output_type": "execute_result"
    }
   ],
   "source": [
    "#np.random \n",
    "np.random.random((2,4))"
   ]
  },
  {
   "cell_type": "code",
   "execution_count": 53,
   "id": "01671e4b-0a16-4521-9a7e-8dd27e077d19",
   "metadata": {
    "tags": []
   },
   "outputs": [
    {
     "data": {
      "text/plain": [
       "array([-10.        ,  -7.77777778,  -5.55555556,  -3.33333333,\n",
       "        -1.11111111,   1.11111111,   3.33333333,   5.55555556,\n",
       "         7.77777778,  10.        ])"
      ]
     },
     "execution_count": 53,
     "metadata": {},
     "output_type": "execute_result"
    }
   ],
   "source": [
    "#np.linspace -- it is leanear seprable it seprate the number in equal distance\n",
    "np.linspace(-10,10,10)"
   ]
  },
  {
   "cell_type": "code",
   "execution_count": 54,
   "id": "7f5b1d20-9efd-41cf-9d77-52ca010e465f",
   "metadata": {
    "tags": []
   },
   "outputs": [
    {
     "data": {
      "text/plain": [
       "array([[1., 0., 0.],\n",
       "       [0., 1., 0.],\n",
       "       [0., 0., 1.]])"
      ]
     },
     "execution_count": 54,
     "metadata": {},
     "output_type": "execute_result"
    }
   ],
   "source": [
    "#np.identity \n",
    "np.identity(3)"
   ]
  },
  {
   "cell_type": "markdown",
   "id": "7af3f3ef-f13a-4530-bcf4-c92abe72012f",
   "metadata": {},
   "source": [
    "## array atribue "
   ]
  },
  {
   "cell_type": "code",
   "execution_count": 64,
   "id": "479434f7-7dff-4b53-8fdf-d3c51be9f40c",
   "metadata": {
    "tags": []
   },
   "outputs": [
    {
     "data": {
      "text/plain": [
       "array([[[0, 1],\n",
       "        [2, 3]],\n",
       "\n",
       "       [[4, 5],\n",
       "        [6, 7]]])"
      ]
     },
     "execution_count": 64,
     "metadata": {},
     "output_type": "execute_result"
    }
   ],
   "source": [
    "a1 = np.arange(10,dtype=np.int32)\n",
    "a2 = np.arange(12,dtype=float).reshape(3,4)\n",
    "a3 = np.arange(8).reshape(2,2,2)\n",
    "a3\n"
   ]
  },
  {
   "cell_type": "code",
   "execution_count": 58,
   "id": "628552c5-24f5-46ad-93e9-47ffa0fab96b",
   "metadata": {
    "tags": []
   },
   "outputs": [
    {
     "data": {
      "text/plain": [
       "3"
      ]
     },
     "execution_count": 58,
     "metadata": {},
     "output_type": "execute_result"
    }
   ],
   "source": [
    "#ndim  - it give you the dimension of the numpy array \n",
    "a3.ndim"
   ]
  },
  {
   "cell_type": "code",
   "execution_count": 59,
   "id": "590d0634-2f1e-4eca-a41d-2824c9c55933",
   "metadata": {
    "tags": []
   },
   "outputs": [
    {
     "name": "stdout",
     "output_type": "stream",
     "text": [
      "(3, 4)\n"
     ]
    }
   ],
   "source": [
    "#shape - it told us how many rows and column are there in the array \n",
    "print ( a2 . shape)\n"
   ]
  },
  {
   "cell_type": "code",
   "execution_count": 60,
   "id": "20ffbeda-e220-4355-863a-a4997eb850d2",
   "metadata": {
    "tags": []
   },
   "outputs": [
    {
     "name": "stdout",
     "output_type": "stream",
     "text": [
      "(2, 2, 2)\n"
     ]
    }
   ],
   "source": [
    "print(a3.shape)"
   ]
  },
  {
   "cell_type": "code",
   "execution_count": 62,
   "id": "b19862e6-986c-4516-ae47-986ccf2d814d",
   "metadata": {
    "tags": []
   },
   "outputs": [
    {
     "name": "stdout",
     "output_type": "stream",
     "text": [
      "8\n"
     ]
    }
   ],
   "source": [
    "#size it told us how many items are there in the list\n",
    "print (a3.size)\n"
   ]
  },
  {
   "cell_type": "code",
   "execution_count": 66,
   "id": "5200262d-be2f-4113-bd1f-9c8920e2cebd",
   "metadata": {
    "tags": []
   },
   "outputs": [
    {
     "data": {
      "text/plain": [
       "4"
      ]
     },
     "execution_count": 66,
     "metadata": {},
     "output_type": "execute_result"
    }
   ],
   "source": [
    "#item size - it told us what is the size of a array or item is in mb or bite or gb type bro dtype = np.int 32\n",
    "a3.itemsize"
   ]
  },
  {
   "cell_type": "code",
   "execution_count": 68,
   "id": "b7bc384f-38c8-4340-ab30-8ab4ef8c747e",
   "metadata": {
    "tags": []
   },
   "outputs": [
    {
     "name": "stdout",
     "output_type": "stream",
     "text": [
      "int32\n",
      "float64\n",
      "int32\n"
     ]
    }
   ],
   "source": [
    "#dtype.\n",
    "print (a1.dtype)\n",
    "print (a2.dtype)\n",
    "print (a3.dtype)"
   ]
  },
  {
   "cell_type": "markdown",
   "id": "61a20f6d-6ce4-47fc-a8d7-d8b5379753ca",
   "metadata": {},
   "source": [
    "### changing datatype "
   ]
  },
  {
   "cell_type": "code",
   "execution_count": 70,
   "id": "91b36670-fa2a-4bb0-ad63-98a686355da0",
   "metadata": {
    "tags": []
   },
   "outputs": [
    {
     "data": {
      "text/plain": [
       "array([[[0, 1],\n",
       "        [2, 3]],\n",
       "\n",
       "       [[4, 5],\n",
       "        [6, 7]]], dtype=int64)"
      ]
     },
     "execution_count": 70,
     "metadata": {},
     "output_type": "execute_result"
    }
   ],
   "source": [
    "#astype  - it can change the type of previous made array means from int to float \n",
    "a3.astype(np.int64)"
   ]
  },
  {
   "cell_type": "markdown",
   "id": "db95450e-1d90-462e-9727-1aace6326ee4",
   "metadata": {},
   "source": [
    "### array operation"
   ]
  },
  {
   "cell_type": "code",
   "execution_count": 79,
   "id": "a6fec575-d44b-4583-9602-e45e1bf82e0c",
   "metadata": {
    "tags": []
   },
   "outputs": [
    {
     "name": "stdout",
     "output_type": "stream",
     "text": [
      "[[ 0  1  2  3]\n",
      " [ 4  5  6  7]\n",
      " [ 8  9 10 11]]\n",
      "[[12 13 14 15]\n",
      " [16 17 18 19]\n",
      " [20 21 22 23]]\n"
     ]
    }
   ],
   "source": [
    "a1 = np.arange(12).reshape(3,4)\n",
    "a2 = np.arange(12,24).reshape(3,4)\n",
    "\n",
    "print(a1)\n",
    "\n",
    "print(a2)"
   ]
  },
  {
   "cell_type": "code",
   "execution_count": 80,
   "id": "e30c5849-61da-4d86-867f-06e004edbdc6",
   "metadata": {
    "tags": []
   },
   "outputs": [
    {
     "data": {
      "text/plain": [
       "array([[  0,   1,   4,   9],\n",
       "       [ 16,  25,  36,  49],\n",
       "       [ 64,  81, 100, 121]])"
      ]
     },
     "execution_count": 80,
     "metadata": {},
     "output_type": "execute_result"
    }
   ],
   "source": [
    "#scalar opertation\n",
    "# arithmatic operation +-*/ power all operation are done \n",
    "\n",
    "a1**2"
   ]
  },
  {
   "cell_type": "code",
   "execution_count": 84,
   "id": "4ad1971a-8fda-4063-b63c-c4d3cac3699a",
   "metadata": {
    "tags": []
   },
   "outputs": [
    {
     "data": {
      "text/plain": [
       "array([[False, False, False, False],\n",
       "       [ True,  True,  True,  True],\n",
       "       [ True,  True,  True,  True]])"
      ]
     },
     "execution_count": 84,
     "metadata": {},
     "output_type": "execute_result"
    }
   ],
   "source": [
    "#relational ><==!=\n",
    "a2>15"
   ]
  },
  {
   "cell_type": "code",
   "execution_count": 86,
   "id": "9a9e9bf9-cff2-4ba1-baa0-b864cc03d9b9",
   "metadata": {
    "tags": []
   },
   "outputs": [
    {
     "data": {
      "text/plain": [
       "array([[  0,  13,  28,  45],\n",
       "       [ 64,  85, 108, 133],\n",
       "       [160, 189, 220, 253]])"
      ]
     },
     "execution_count": 86,
     "metadata": {},
     "output_type": "execute_result"
    }
   ],
   "source": [
    "#vector operation performimg opertation on two []\n",
    "#arithmatic \n",
    "a1*a2\n",
    "\n"
   ]
  },
  {
   "cell_type": "markdown",
   "id": "405e9b08-1ab5-4650-adc1-31134e8fe520",
   "metadata": {},
   "source": [
    "# array function"
   ]
  },
  {
   "cell_type": "code",
   "execution_count": 89,
   "id": "212abfc2-6207-4ecd-a201-4cce82543bf9",
   "metadata": {
    "tags": []
   },
   "outputs": [
    {
     "data": {
      "text/plain": [
       "array([[92.,  5., 58.],\n",
       "       [37., 67., 23.],\n",
       "       [56., 58., 58.]])"
      ]
     },
     "execution_count": 89,
     "metadata": {},
     "output_type": "execute_result"
    }
   ],
   "source": [
    "a1 = np.random.random((3,3))\n",
    "a1 = np.round(a1*100)\n",
    "a1"
   ]
  },
  {
   "cell_type": "code",
   "execution_count": 90,
   "id": "228854ac-63b3-4fb1-8ff0-0d2a44d14b7b",
   "metadata": {
    "tags": []
   },
   "outputs": [
    {
     "data": {
      "text/plain": [
       "array([190624.,  19430.,  77372.])"
      ]
     },
     "execution_count": 90,
     "metadata": {},
     "output_type": "execute_result"
    }
   ],
   "source": [
    "# max/min/sum/prod\n",
    "# 0 -> col and 1 -> row\n",
    "np.prod(a1,axis=0)"
   ]
  },
  {
   "cell_type": "code",
   "execution_count": 91,
   "id": "a920762f-bff6-4c17-b130-c6078fd08c18",
   "metadata": {
    "tags": []
   },
   "outputs": [
    {
     "data": {
      "text/plain": [
       "array([1.28155556e+03, 3.36888889e+02, 8.88888889e-01])"
      ]
     },
     "execution_count": 91,
     "metadata": {},
     "output_type": "execute_result"
    }
   ],
   "source": [
    "# mean/median/std/var\n",
    "np.var(a1,axis=1)"
   ]
  },
  {
   "cell_type": "code",
   "execution_count": 92,
   "id": "34fd820d-a53a-47d8-864e-4b655b8884ea",
   "metadata": {
    "tags": []
   },
   "outputs": [
    {
     "data": {
      "text/plain": [
       "array([[114, 120, 126],\n",
       "       [378, 400, 422],\n",
       "       [642, 680, 718]])"
      ]
     },
     "execution_count": 92,
     "metadata": {},
     "output_type": "execute_result"
    }
   ],
   "source": [
    "# dot product\n",
    "a2 = np.arange(12).reshape(3,4)\n",
    "a3 = np.arange(12,24).reshape(4,3)\n",
    "\n",
    "np.dot(a2,a3)"
   ]
  },
  {
   "cell_type": "code",
   "execution_count": 94,
   "id": "652061a3-de7b-42d6-a4d4-109e65f58116",
   "metadata": {
    "tags": []
   },
   "outputs": [
    {
     "data": {
      "text/plain": [
       "array([[4.52178858, 1.60943791, 4.06044301],\n",
       "       [3.61091791, 4.20469262, 3.13549422],\n",
       "       [4.02535169, 4.06044301, 4.06044301]])"
      ]
     },
     "execution_count": 94,
     "metadata": {},
     "output_type": "execute_result"
    }
   ],
   "source": [
    "#log and exponent   exp for exponent\n",
    "np.log(a1)"
   ]
  },
  {
   "cell_type": "code",
   "execution_count": 95,
   "id": "dc43a5f1-aea2-485f-bed1-922337dc3aa2",
   "metadata": {
    "tags": []
   },
   "outputs": [
    {
     "data": {
      "text/plain": [
       "array([[ 59.,   7., 100.],\n",
       "       [  2.,  45.,  27.]])"
      ]
     },
     "execution_count": 95,
     "metadata": {},
     "output_type": "execute_result"
    }
   ],
   "source": [
    "#round /ceil and floar\n",
    "# round/floor/ceil\n",
    "\n",
    "np.ceil(np.random.random((2,3))*100) # ceil aage waala number pa pekata hai aur floor uska peicha or nearest wala ka pass "
   ]
  },
  {
   "cell_type": "markdown",
   "id": "5716c8aa-e6c4-4c37-8415-1f180a518a03",
   "metadata": {
    "tags": []
   },
   "source": [
    "### indexing and slicing \n"
   ]
  },
  {
   "cell_type": "code",
   "execution_count": 97,
   "id": "f9bbf625-501a-46a5-89a6-507c152531d1",
   "metadata": {
    "tags": []
   },
   "outputs": [
    {
     "data": {
      "text/plain": [
       "array([[[0, 1],\n",
       "        [2, 3]],\n",
       "\n",
       "       [[4, 5],\n",
       "        [6, 7]]])"
      ]
     },
     "execution_count": 97,
     "metadata": {},
     "output_type": "execute_result"
    }
   ],
   "source": [
    "a1 = np.arange(10)\n",
    "a2 = np.arange(12).reshape(3,4)\n",
    "a3 = np.arange(8).reshape(2,2,2)\n",
    "\n",
    "a3"
   ]
  },
  {
   "cell_type": "code",
   "execution_count": 98,
   "id": "e7ff9dc6-954c-42d2-90eb-3786a9c08b1c",
   "metadata": {
    "tags": []
   },
   "outputs": [
    {
     "data": {
      "text/plain": [
       "array([0, 1, 2, 3, 4, 5, 6, 7, 8, 9])"
      ]
     },
     "execution_count": 98,
     "metadata": {},
     "output_type": "execute_result"
    }
   ],
   "source": [
    "a1"
   ]
  },
  {
   "cell_type": "code",
   "execution_count": 105,
   "id": "563e46e4-4d70-4421-812c-01efa6a9a2b3",
   "metadata": {
    "tags": []
   },
   "outputs": [
    {
     "data": {
      "text/plain": [
       "7"
      ]
     },
     "execution_count": 105,
     "metadata": {},
     "output_type": "execute_result"
    }
   ],
   "source": [
    "a1[-3]"
   ]
  },
  {
   "cell_type": "code",
   "execution_count": 99,
   "id": "654cb04e-7879-4d5f-b5c8-18d4ee0bd174",
   "metadata": {
    "tags": []
   },
   "outputs": [
    {
     "data": {
      "text/plain": [
       "array([[ 0,  1,  2,  3],\n",
       "       [ 4,  5,  6,  7],\n",
       "       [ 8,  9, 10, 11]])"
      ]
     },
     "execution_count": 99,
     "metadata": {},
     "output_type": "execute_result"
    }
   ],
   "source": [
    "a2"
   ]
  },
  {
   "cell_type": "code",
   "execution_count": 102,
   "id": "3d204bcc-042a-48c0-af94-042301b79464",
   "metadata": {
    "tags": []
   },
   "outputs": [
    {
     "data": {
      "text/plain": [
       "7"
      ]
     },
     "execution_count": 102,
     "metadata": {},
     "output_type": "execute_result"
    }
   ],
   "source": [
    "a2[1,3]"
   ]
  },
  {
   "cell_type": "code",
   "execution_count": 106,
   "id": "13c4b351-8f27-46eb-87f9-5a3942ebd08b",
   "metadata": {
    "tags": []
   },
   "outputs": [
    {
     "data": {
      "text/plain": [
       "5"
      ]
     },
     "execution_count": 106,
     "metadata": {},
     "output_type": "execute_result"
    }
   ],
   "source": [
    "a3[1,0,1]  #es 3d ka anndar kitnna 2d hai kuki 3d is made by using 2d array"
   ]
  },
  {
   "cell_type": "code",
   "execution_count": 107,
   "id": "5f12df7d-0e39-43af-b874-44ec6a3fa15a",
   "metadata": {
    "tags": []
   },
   "outputs": [
    {
     "data": {
      "text/plain": [
       "array([0, 1, 2, 3, 4, 5, 6, 7, 8, 9])"
      ]
     },
     "execution_count": 107,
     "metadata": {},
     "output_type": "execute_result"
    }
   ],
   "source": [
    "a1"
   ]
  },
  {
   "cell_type": "code",
   "execution_count": 110,
   "id": "bedf859f-9b0e-488c-a9cb-5e1cfe4da2e7",
   "metadata": {
    "tags": []
   },
   "outputs": [
    {
     "data": {
      "text/plain": [
       "array([2, 4])"
      ]
     },
     "execution_count": 110,
     "metadata": {},
     "output_type": "execute_result"
    }
   ],
   "source": [
    "a1[2:5:2]#here we are using slicing [2:4 ] here the last element is not included and last 2 is for alternate\n"
   ]
  },
  {
   "cell_type": "code",
   "execution_count": 116,
   "id": "802f4ad9-3eac-40a2-9975-a4d9ef386aa5",
   "metadata": {
    "tags": []
   },
   "outputs": [
    {
     "data": {
      "text/plain": [
       "array([9, 7])"
      ]
     },
     "execution_count": 116,
     "metadata": {},
     "output_type": "execute_result"
    }
   ],
   "source": [
    "a1[9:5:-2]"
   ]
  },
  {
   "cell_type": "code",
   "execution_count": null,
   "id": "a8dbd896-27c7-45d9-b9b0-bf2d52668cf0",
   "metadata": {},
   "outputs": [],
   "source": []
  }
 ],
 "metadata": {
  "kernelspec": {
   "display_name": "Python 3 (ipykernel)",
   "language": "python",
   "name": "python3"
  },
  "language_info": {
   "codemirror_mode": {
    "name": "ipython",
    "version": 3
   },
   "file_extension": ".py",
   "mimetype": "text/x-python",
   "name": "python",
   "nbconvert_exporter": "python",
   "pygments_lexer": "ipython3",
   "version": "3.11.4"
  }
 },
 "nbformat": 4,
 "nbformat_minor": 5
}
